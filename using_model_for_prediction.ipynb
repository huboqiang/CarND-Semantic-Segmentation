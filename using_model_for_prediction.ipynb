{
 "cells": [
  {
   "cell_type": "code",
   "execution_count": null,
   "metadata": {},
   "outputs": [
    {
     "name": "stdout",
     "output_type": "stream",
     "text": [
      "TensorFlow Version: 1.2.1\n",
      "Default GPU Device: /gpu:0\n",
      "Tests Passed\n"
     ]
    }
   ],
   "source": [
    "import tensorflow as tf\n",
    "import os\n",
    "import time\n",
    "import scipy\n",
    "import numpy as np\n",
    "import shutil\n",
    "from tqdm import tqdm\n",
    "from main import layers,load_vgg,optimize"
   ]
  },
  {
   "cell_type": "code",
   "execution_count": null,
   "metadata": {
    "collapsed": true
   },
   "outputs": [],
   "source": [
    "image_shape = (160, 576)\n",
    "\n",
    "def predict_using_raw_model(l_image_file):\n",
    "    vgg_path = \"./data/vgg/\"\n",
    "    num_classes = 2\n",
    "    epochs = 50\n",
    "    batch_size = 16\n",
    "    tf.reset_default_graph()\n",
    "    with tf.Session() as sess:\n",
    "        correct_label = tf.placeholder(tf.int32, [None, None, None, num_classes])\n",
    "        learning_rate = tf.placeholder(tf.float32)\n",
    "    \n",
    "        input_image, keep_prob, vgg_layer3_out, vgg_layer4_out, vgg_layer7_out = \\\n",
    "            load_vgg(sess, vgg_path)\n",
    "\n",
    "        nn_last_layer = layers(vgg_layer3_out, vgg_layer4_out, vgg_layer7_out, num_classes)\n",
    "\n",
    "        logits, training_op, cross_entropy_loss = \\\n",
    "            optimize(nn_last_layer, correct_label, learning_rate, num_classes)\n",
    "        \n",
    "        saver = tf.train.Saver()\n",
    "        saver.restore(sess, \"./models_l2_norm_lr00001_e100/eproch_90_loss_7867.2935\")\n",
    "        l_street_im = []\n",
    "        for image_file in tqdm(l_image_file):\n",
    "            image = scipy.misc.imresize(scipy.misc.imread(image_file), image_shape)\n",
    "            im_softmax = sess.run(\n",
    "                [tf.nn.softmax(logits)],\n",
    "                {keep_prob: 1.0, input_image: [image]})\n",
    "    \n",
    "            im_softmax = im_softmax[0][:, 1].reshape(image_shape[0], image_shape[1])\n",
    "            segmentation = (im_softmax > 0.5).reshape(image_shape[0], image_shape[1], 1)\n",
    "            mask = np.dot(segmentation, np.array([[0, 255, 0, 127]]))\n",
    "            mask = scipy.misc.toimage(mask, mode=\"RGBA\")\n",
    "            street_im = scipy.misc.toimage(image)\n",
    "            street_im.paste(mask, box=None, mask=mask)\n",
    "            l_street_im.append(street_im)\n",
    "    \n",
    "    return l_street_im"
   ]
  },
  {
   "cell_type": "code",
   "execution_count": null,
   "metadata": {},
   "outputs": [],
   "source": [
    "image_file = \"./data/data_road/testing/image_2/um_000052.png\"\n",
    "l_input_images = !ls ./data/data_road/testing/image_2/*png\n",
    "l_img = predict_using_raw_model(l_input_images)\n",
    "l_img[0]"
   ]
  },
  {
   "cell_type": "code",
   "execution_count": null,
   "metadata": {
    "collapsed": true
   },
   "outputs": [],
   "source": [
    "def load_graph(graph_file, use_xla=False):\n",
    "    jit_level = 0\n",
    "    config = tf.ConfigProto()\n",
    "    if use_xla:\n",
    "        jit_level = tf.OptimizerOptions.ON_2\n",
    "        config.graph_options.optimizer_options.global_jit_level = jit_level\n",
    "\n",
    "    with tf.Session(graph=tf.Graph(), config=config) as sess:\n",
    "        gd = tf.GraphDef()\n",
    "        with tf.gfile.Open(graph_file, 'rb') as f:\n",
    "            data = f.read()\n",
    "            gd.ParseFromString(data)\n",
    "\n",
    "        tf.import_graph_def(gd, name='')\n",
    "        ops = sess.graph.get_operations()\n",
    "        n_ops = len(ops)\n",
    "        return sess, ops\n",
    "    \n",
    "def predict_using_graphdef_file(l_image_file, graph_file, use_xla=False):\n",
    "    sess, _ = load_graph(graph_file, use_xla)\n",
    "    graph = sess.graph\n",
    "    image_input = graph.get_tensor_by_name(\"image_input:0\")\n",
    "    keep_prob   = graph.get_tensor_by_name(\"keep_prob:0\")\n",
    "    logit       = graph.get_tensor_by_name(\"predicted_label:0\")\n",
    "    l_street_im = []\n",
    "    for image_file in tqdm(l_image_file):\n",
    "        image = scipy.misc.imresize(scipy.misc.imread(image_file), image_shape)\n",
    "        im_softmax = sess.run(\n",
    "            [logit],\n",
    "            {keep_prob: 1.0, image_input: np.expand_dims(image, axis=0)})\n",
    "        \n",
    "        im_softmax = im_softmax[0][:, 1].reshape(image_shape[0], image_shape[1])\n",
    "        segmentation = (im_softmax > 0.5).reshape(image_shape[0], image_shape[1], 1)\n",
    "        mask = np.dot(segmentation, np.array([[0, 255, 0, 127]]))\n",
    "        mask = scipy.misc.toimage(mask, mode=\"RGBA\")\n",
    "        street_im = scipy.misc.toimage(image)\n",
    "        street_im.paste(mask, box=None, mask=mask)\n",
    "        l_street_im.append(street_im)\n",
    "    \n",
    "    return l_street_im\n",
    "    "
   ]
  },
  {
   "cell_type": "markdown",
   "metadata": {},
   "source": [
    "## Using some optimization\n",
    "\n",
    "The optimized model ran faster, but the result seemed not so well as the origin model."
   ]
  },
  {
   "cell_type": "code",
   "execution_count": null,
   "metadata": {},
   "outputs": [],
   "source": [
    "l_img = predict_using_graphdef_file(l_input_images, graph_file=\"./freezed_model/frozen_graph.pb\")\n",
    "l_img[0]"
   ]
  },
  {
   "cell_type": "code",
   "execution_count": null,
   "metadata": {},
   "outputs": [],
   "source": [
    "l_img = predict_using_graphdef_file(l_input_images, graph_file=\"./freezed_model/optimized_graph.pb\")\n",
    "l_img[0]"
   ]
  },
  {
   "cell_type": "markdown",
   "metadata": {},
   "source": [
    "## One problem\n",
    "\n",
    "8bit much slower. This has been reported as an issue on tensorflow github [https://github.com/tensorflow/tensorflow/issues/5757](https://github.com/tensorflow/tensorflow/issues/5757). "
   ]
  },
  {
   "cell_type": "code",
   "execution_count": null,
   "metadata": {},
   "outputs": [],
   "source": [
    "l_img = predict_using_graphdef_file(l_input_images[0:3], graph_file=\"./freezed_model/eightbit_graph.pb\")\n",
    "l_img[0]"
   ]
  },
  {
   "cell_type": "code",
   "execution_count": null,
   "metadata": {},
   "outputs": [],
   "source": [
    "l_img = predict_using_graphdef_file(l_input_images[0:3], graph_file=\"./freezed_model/eightbit_graph.pb\", use_xla=True)\n",
    "l_img[0]"
   ]
  },
  {
   "cell_type": "markdown",
   "metadata": {},
   "source": [
    "# Test on a video"
   ]
  },
  {
   "cell_type": "code",
   "execution_count": null,
   "metadata": {
    "collapsed": true
   },
   "outputs": [],
   "source": [
    "#import imageio\n",
    "#imageio.plugins.ffmpeg.download()\n",
    "from moviepy.editor import VideoFileClip"
   ]
  },
  {
   "cell_type": "code",
   "execution_count": null,
   "metadata": {
    "collapsed": true
   },
   "outputs": [],
   "source": [
    "class UsingFcnOnVideo(object):\n",
    "    def __init__(self, graph_file, use_xla=False, image_shape=[160, 576]):\n",
    "        self.model = graph_file\n",
    "        self.sess, _ = load_graph(graph_file, use_xla)\n",
    "        self.image_shape = image_shape\n",
    "        graph = self.sess.graph\n",
    "        self.image_input = graph.get_tensor_by_name(\"image_input:0\")\n",
    "        self.keep_prob   = graph.get_tensor_by_name(\"keep_prob:0\")\n",
    "        self.logit       = graph.get_tensor_by_name(\"predicted_label:0\")\n",
    "        \n",
    "    def process_image(self, image):\n",
    "        image = scipy.misc.imresize(image, self.image_shape)\n",
    "        im_softmax = self.sess.run(\n",
    "            [self.logit],\n",
    "            {self.keep_prob: 1.0, self.image_input: np.expand_dims(image, axis=0)})\n",
    "        \n",
    "        im_softmax = im_softmax[0][:, 1].reshape(self.image_shape[0], self.image_shape[1])\n",
    "        segmentation = (im_softmax > 0.5).reshape(self.image_shape[0], self.image_shape[1], 1)\n",
    "        mask = np.dot(segmentation, np.array([[0, 255, 0, 127]]))\n",
    "        mask = scipy.misc.toimage(mask, mode=\"RGBA\")\n",
    "        street_im = scipy.misc.toimage(image)\n",
    "        street_im.paste(mask, box=None, mask=mask)\n",
    "        return np.array(street_im, dtype=\"uint8\")\n",
    "        "
   ]
  },
  {
   "cell_type": "code",
   "execution_count": null,
   "metadata": {
    "collapsed": true
   },
   "outputs": [],
   "source": [
    "m_video = UsingFcnOnVideo(\"./freezed_model/frozen_graph.pb\")"
   ]
  },
  {
   "cell_type": "code",
   "execution_count": null,
   "metadata": {},
   "outputs": [],
   "source": [
    "clip = VideoFileClip(\"../../Project4_AdvancedLaneLines/CarND-Advanced-Lane-Lines/project_video.mp4\")\n",
    "proj_clip = clip.fl_image(m_video.process_image)\n",
    "%time proj_clip.write_videofile(\"./project_video.result.mp4\", audio=False)"
   ]
  },
  {
   "cell_type": "code",
   "execution_count": null,
   "metadata": {},
   "outputs": [],
   "source": [
    "from IPython.display import HTML\n",
    "\n",
    "HTML(\"\"\"\n",
    "<video width=\"960\" height=\"540\" controls>\n",
    "    <source src=\"{0}\">\n",
    "</video>\n",
    "\"\"\".format(\"./project_video.result.mp4\"))"
   ]
  },
  {
   "cell_type": "code",
   "execution_count": null,
   "metadata": {
    "collapsed": true
   },
   "outputs": [],
   "source": []
  }
 ],
 "metadata": {
  "kernelspec": {
   "display_name": "Python 3",
   "language": "python",
   "name": "python3"
  },
  "language_info": {
   "codemirror_mode": {
    "name": "ipython",
    "version": 3
   },
   "file_extension": ".py",
   "mimetype": "text/x-python",
   "name": "python",
   "nbconvert_exporter": "python",
   "pygments_lexer": "ipython3",
   "version": "3.5.2"
  }
 },
 "nbformat": 4,
 "nbformat_minor": 2
}
